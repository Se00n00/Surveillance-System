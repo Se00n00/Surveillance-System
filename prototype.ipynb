{
 "cells": [
  {
   "cell_type": "code",
   "execution_count": null,
   "id": "eb8a4e12",
   "metadata": {},
   "outputs": [],
   "source": [
    "from src.ImageRecords import ImageRecords"
   ]
  }
 ],
 "metadata": {
  "language_info": {
   "name": "python"
  }
 },
 "nbformat": 4,
 "nbformat_minor": 5
}
