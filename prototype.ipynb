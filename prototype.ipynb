{
 "cells": [
  {
   "cell_type": "code",
   "execution_count": 1,
   "id": "100a38e5",
   "metadata": {},
   "outputs": [],
   "source": [
    "from src.Databases.VectorDB import VectorDB\n",
    "import numpy as np"
   ]
  },
  {
   "cell_type": "code",
   "execution_count": 2,
   "id": "753cce57",
   "metadata": {},
   "outputs": [],
   "source": [
    "meta_data = {\"id\":[]}\n",
    "DB = VectorDB(top_k=2, meta_data=meta_data)"
   ]
  },
  {
   "cell_type": "code",
   "execution_count": 3,
   "id": "e6653088",
   "metadata": {},
   "outputs": [],
   "source": [
    "a = np.array([[1,6,6,4]])\n",
    "b = np.array([[5,6,1,4]])\n",
    "c = np.array([[6,1,6,4]])"
   ]
  },
  {
   "cell_type": "code",
   "execution_count": 4,
   "id": "1b4475cd",
   "metadata": {},
   "outputs": [
    {
     "data": {
      "text/plain": [
       "0"
      ]
     },
     "execution_count": 4,
     "metadata": {},
     "output_type": "execute_result"
    }
   ],
   "source": [
    "DB.num_rows"
   ]
  },
  {
   "cell_type": "code",
   "execution_count": 5,
   "id": "89c1af47",
   "metadata": {},
   "outputs": [
    {
     "data": {
      "text/html": [
       "<div>\n",
       "<style scoped>\n",
       "    .dataframe tbody tr th:only-of-type {\n",
       "        vertical-align: middle;\n",
       "    }\n",
       "\n",
       "    .dataframe tbody tr th {\n",
       "        vertical-align: top;\n",
       "    }\n",
       "\n",
       "    .dataframe thead th {\n",
       "        text-align: right;\n",
       "    }\n",
       "</style>\n",
       "<table border=\"1\" class=\"dataframe\">\n",
       "  <thead>\n",
       "    <tr style=\"text-align: right;\">\n",
       "      <th></th>\n",
       "      <th>id</th>\n",
       "    </tr>\n",
       "  </thead>\n",
       "  <tbody>\n",
       "  </tbody>\n",
       "</table>\n",
       "</div>"
      ],
      "text/plain": [
       "Empty DataFrame\n",
       "Columns: [id]\n",
       "Index: []"
      ]
     },
     "execution_count": 5,
     "metadata": {},
     "output_type": "execute_result"
    }
   ],
   "source": [
    "DB.meta_data"
   ]
  },
  {
   "cell_type": "code",
   "execution_count": 32,
   "id": "0fa77747",
   "metadata": {},
   "outputs": [],
   "source": [
    "DB.meta_data.loc[2] = [5,1]"
   ]
  },
  {
   "cell_type": "code",
   "execution_count": 6,
   "id": "e91a9188",
   "metadata": {},
   "outputs": [
    {
     "data": {
      "text/plain": [
       "array([], shape=(0, 0), dtype=float32)"
      ]
     },
     "execution_count": 6,
     "metadata": {},
     "output_type": "execute_result"
    }
   ],
   "source": [
    "DB.collection"
   ]
  },
  {
   "cell_type": "code",
   "execution_count": 9,
   "id": "b8763e4c",
   "metadata": {},
   "outputs": [],
   "source": [
    "DB.add(np.array(c), [30])"
   ]
  },
  {
   "cell_type": "code",
   "execution_count": 10,
   "id": "4fd1435e",
   "metadata": {},
   "outputs": [
    {
     "data": {
      "text/html": [
       "<div>\n",
       "<style scoped>\n",
       "    .dataframe tbody tr th:only-of-type {\n",
       "        vertical-align: middle;\n",
       "    }\n",
       "\n",
       "    .dataframe tbody tr th {\n",
       "        vertical-align: top;\n",
       "    }\n",
       "\n",
       "    .dataframe thead th {\n",
       "        text-align: right;\n",
       "    }\n",
       "</style>\n",
       "<table border=\"1\" class=\"dataframe\">\n",
       "  <thead>\n",
       "    <tr style=\"text-align: right;\">\n",
       "      <th></th>\n",
       "      <th>id</th>\n",
       "    </tr>\n",
       "  </thead>\n",
       "  <tbody>\n",
       "    <tr>\n",
       "      <th>2</th>\n",
       "      <td>30</td>\n",
       "    </tr>\n",
       "    <tr>\n",
       "      <th>1</th>\n",
       "      <td>20</td>\n",
       "    </tr>\n",
       "  </tbody>\n",
       "</table>\n",
       "</div>"
      ],
      "text/plain": [
       "   id\n",
       "2  30\n",
       "1  20"
      ]
     },
     "execution_count": 10,
     "metadata": {},
     "output_type": "execute_result"
    }
   ],
   "source": [
    "DB.search(a)"
   ]
  },
  {
   "cell_type": "code",
   "execution_count": null,
   "id": "eb8a4e12",
   "metadata": {},
   "outputs": [],
   "source": [
    "from src.ImageRecords import ImageRecords"
   ]
  }
 ],
 "metadata": {
  "kernelspec": {
   "display_name": "base",
   "language": "python",
   "name": "python3"
  },
  "language_info": {
   "codemirror_mode": {
    "name": "ipython",
    "version": 3
   },
   "file_extension": ".py",
   "mimetype": "text/x-python",
   "name": "python",
   "nbconvert_exporter": "python",
   "pygments_lexer": "ipython3",
   "version": "3.12.7"
  }
 },
 "nbformat": 4,
 "nbformat_minor": 5
}
