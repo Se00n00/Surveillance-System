{
 "cells": [
  {
   "cell_type": "markdown",
   "id": "72a47e2a",
   "metadata": {},
   "source": [
    "## Datset: [Face-Detection-Dataset](https://www.kaggle.com/datasets/fareselmenshawii/face-detection-dataset)"
   ]
  },
  {
   "cell_type": "markdown",
   "id": "99a2c268",
   "metadata": {},
   "source": [
    "## Import Required Dataset"
   ]
  },
  {
   "cell_type": "code",
   "execution_count": null,
   "id": "5bfdddcc",
   "metadata": {},
   "outputs": [],
   "source": [
    "import os\n",
    "import cv2\n",
    "import matplotlib.pyplot as plt\n",
    "from ultralytics import YOLO\n",
    "import yaml"
   ]
  },
  {
   "cell_type": "code",
   "execution_count": null,
   "id": "b82d89be",
   "metadata": {},
   "outputs": [],
   "source": [
    "data = {\n",
    "    \"train\": \"/kaggle/input/face-detection-dataset/images/train\",\n",
    "    \"val\": \"/kaggle/input/face-detection-dataset/images/val\",\n",
    "    \"nc\": 1,\n",
    "    \"names\": [\"face\"]\n",
    "}\n",
    "\n",
    "with open(\"/kaggle/working/data.yaml\", \"w\") as f:  # Open file in write mode\n",
    "    yaml.dump(data, f, default_flow_style=False)  # Write data to YAML\n",
    "\n",
    "Data_yaml = \"/kaggle/working/data.yaml\""
   ]
  },
  {
   "cell_type": "markdown",
   "id": "1fac4c00",
   "metadata": {},
   "source": [
    "### Define and Train Model"
   ]
  },
  {
   "cell_type": "code",
   "execution_count": null,
   "id": "81b020cd",
   "metadata": {},
   "outputs": [],
   "source": [
    "model = YOLO(\"yolo11n.yaml\").load(\"yolo11n.pt\")\n",
    "\n",
    "# Traing the model\n",
    "results = model.train(data=Data_yaml, epochs=1, imgsz=640, freeze=None)\n",
    "\n",
    "# Test the model\n",
    "metrics = model.val()"
   ]
  },
  {
   "cell_type": "code",
   "execution_count": null,
   "id": "20212475",
   "metadata": {},
   "outputs": [],
   "source": [
    "# Save the model\n",
    "model.export()"
   ]
  }
 ],
 "metadata": {
  "kernelspec": {
   "display_name": "base",
   "language": "python",
   "name": "python3"
  },
  "language_info": {
   "name": "python",
   "version": "3.12.7"
  }
 },
 "nbformat": 4,
 "nbformat_minor": 5
}
